{
 "cells": [
  {
   "cell_type": "markdown",
   "id": "7852ee94",
   "metadata": {},
   "source": [
    "# Using python for machine learning"
   ]
  },
  {
   "cell_type": "markdown",
   "id": "c899d3cf",
   "metadata": {},
   "source": [
    "Importing matplotlib"
   ]
  },
  {
   "cell_type": "code",
   "execution_count": 2,
   "id": "2b836649",
   "metadata": {},
   "outputs": [],
   "source": [
    "import matplotlib.pyplot as plt"
   ]
  },
  {
   "cell_type": "markdown",
   "id": "38988d29",
   "metadata": {},
   "source": [
    "Line chart"
   ]
  },
  {
   "cell_type": "code",
   "execution_count": null,
   "id": "41591903",
   "metadata": {},
   "outputs": [
    {
     "data": {
      "image/png": "[encoded data removed]",
      "text/plain": [
       "<Figure size 640x480 with 1 Axes>"
      ]
     },
     "metadata": {},
     "output_type": "display_data"
    }
   ],
   "source": [
    "x = [1, 2, 3, 4, 5]\n",
    "y = [2, 4, 6, 8, 10]\n",
    "\n",
    "plt.plot(x ,y)\n",
    "\n",
    "plt.show()"
   ]
  },
  {
   "cell_type": "markdown",
   "id": "6513e887",
   "metadata": {},
   "source": [
    "Bar chart"
   ]
  },
  {
   "cell_type": "code",
   "execution_count": 4,
   "id": "80c1aecc",
   "metadata": {},
   "outputs": [
    {
     "data": {
      "image/png": "[encoded data removed]",
      "text/plain": [
       "<Figure size 640x480 with 1 Axes>"
      ]
     },
     "metadata": {},
     "output_type": "display_data"
    }
   ],
   "source": [
    "plt.bar(x, y)\n",
    "\n",
    "plt.show()"
   ]
  },
  {
   "cell_type": "markdown",
   "id": "51bbd107",
   "metadata": {},
   "source": [
    "Lists"
   ]
  },
  {
   "cell_type": "code",
   "execution_count": 12,
   "id": "9cd347c5",
   "metadata": {},
   "outputs": [
    {
     "name": "stdout",
     "output_type": "stream",
     "text": [
      "STRONG ARMY WOW GRAPE\n",
      "['apple', 'banana', 'STRONG ARMY WOW GRAPE', 'mango']\n",
      "['banana', 'STRONG ARMY WOW GRAPE', 'mango']\n"
     ]
    }
   ],
   "source": [
    "fruits = [\"apple\", \"banana\", \"STRONG ARMY WOW GRAPE\"]\n",
    "print(fruits[2])\n",
    "\n",
    "fruits.append(\"mango\")\n",
    "print(fruits)\n",
    "\n",
    "fruits.remove(\"apple\")\n",
    "print(fruits)"
   ]
  },
  {
   "cell_type": "markdown",
   "id": "065d46da",
   "metadata": {},
   "source": [
    "Labelling a dataset to be used by the model"
   ]
  },
  {
   "cell_type": "code",
   "execution_count": 9,
   "id": "1fad2352",
   "metadata": {},
   "outputs": [],
   "source": [
    "import pandas as pd     # for reading the files"
   ]
  },
  {
   "cell_type": "code",
   "execution_count": 10,
   "id": "dc4562f2",
   "metadata": {},
   "outputs": [],
   "source": [
    "sampling_rate = 10.1725 # in Hz\n",
    "\n",
    "activities = {\n",
    "    (0, 30): 0,  # Initial Rest\n",
    "    (30, 45): 1, # Activity\n",
    "    (45, 60): 0, # Rest\n",
    "    (60, 75): 1, # Activity\n",
    "    (75, 90): 0,  # Rest\n",
    "    (90, 105): 1, # Activity\n",
    "    (105, 120): 0, # Rest\n",
    "    (120, 150): 0, # Final Rest\n",
    "}\n",
    "# dictionary to define activities with time intervals\n",
    "# a 1 represents an activity and a 0 represents rest.\n",
    "\n",
    "input_file = \"unlabelled_dataset.csv\"\n",
    "output_file = \"labelled_dataset.csv\"\n",
    "# input and output files declared for the dataset\n",
    "\n",
    "dataset = pd.read_csv(input_file)\n",
    "\n",
    "dataset['Label'] = 0 # initialize a 'label' column with 0s\n",
    "\n",
    "for (start_time, end_time), label in activities.items():\n",
    "    start_index = int(start_time * sampling_rate)\n",
    "    end_index = int(end_time * sampling_rate)\n",
    "    dataset.loc[start_index:end_index, 'Label'] = label\n",
    "# assigning appropriate labels to the dataset based on the defined activities\n",
    "\n",
    "dataset.to_csv(output_file, index=False)\n",
    "# saving the labelled dataset to a new CSV file"
   ]
  },
  {
   "cell_type": "markdown",
   "id": "e108783e",
   "metadata": {},
   "source": [
    "using the labelled dataset"
   ]
  },
  {
   "cell_type": "code",
   "execution_count": 11,
   "id": "de5683d3",
   "metadata": {},
   "outputs": [],
   "source": [
    "labelled_data = pd.read_csv(output_file)\n",
    "# using the labelled dataset for further processing\n",
    "\n",
    "data = labelled_data.iloc[:, :20]\n",
    "# extracting the first 20 columns of the labelled dataset for analysis\n",
    "\n",
    "mean = data.mean(axis=1)\n",
    "peak = data.max(axis=1)\n",
    "minimum = data.min(axis=1)\n",
    "variance = data.var(axis=1)\n",
    "peek2peek = peak - minimum\n",
    "# calculating various statistical features from the data\n",
    "\n",
    "labels = labelled_data['Label']\n",
    "\n",
    "features = pd.DataFrame({\n",
    "    'Mean': mean,\n",
    "    'Peak': peak,\n",
    "    'Minimum': minimum,\n",
    "    'Variance': variance,\n",
    "    'Peek_To_Peek': peek2peek,\n",
    "    'Label': labels\n",
    "})\n",
    "# using a DataFrame to store the calculated features for each row of data\n",
    "\n",
    "features_file = \"features.csv\"\n",
    "features.to_csv(features_file, index=False)"
   ]
  },
  {
   "cell_type": "markdown",
   "id": "0974a4e5",
   "metadata": {},
   "source": [
    "using the kNN (safe and healthy chicken) algorithm for machine learning"
   ]
  },
  {
   "cell_type": "code",
   "execution_count": 32,
   "id": "91037bcc",
   "metadata": {},
   "outputs": [],
   "source": [
    "features_data = pd.read_csv(features_file)\n",
    "\n",
    "# splitting the data into features and outputs (labels)\n",
    "X = features_data.drop(columns=['Label']) # features\n",
    "y = features_data['Label'] # labels\n",
    "\n",
    "from sklearn.model_selection import train_test_split\n",
    "# splitting the dataset into training and testing sets\n",
    "\n",
    "X_train, X_test, y_train, y_test = train_test_split(X, y, test_size=0.2)\n",
    "\n",
    "from sklearn.neighbors import KNeighborsClassifier\n",
    "# importing the k-NN classifier from sklearn\n",
    "\n",
    "knn = KNeighborsClassifier(n_neighbors=3)\n",
    "# initializing the k-NN classifier with 3 neighbors\n",
    "\n",
    "knn.fit(X_train, y_train)\n",
    "# training the k-NN classifier with the training data\n",
    "\n",
    "y_pred = knn.predict(X_test)\n",
    "# predicting the labels for the test set"
   ]
  },
  {
   "cell_type": "markdown",
   "id": "802524c6",
   "metadata": {},
   "source": [
    "Evaluating the model's performance"
   ]
  },
  {
   "cell_type": "code",
   "execution_count": 36,
   "id": "be64b7b5",
   "metadata": {},
   "outputs": [
    {
     "name": "stdout",
     "output_type": "stream",
     "text": [
      "Accuracy:  0.8372093023255814\n",
      "Precision:  0.8347362514029181\n",
      "Recall:  0.8372093023255814\n",
      "F1 Score:  0.8357078945557161\n"
     ]
    }
   ],
   "source": [
    "from sklearn.metrics import accuracy_score, precision_score, recall_score, f1_score\n",
    "# importing metrics to evaluate the model's performance\n",
    "\n",
    "print(\"Accuracy: \", accuracy_score(y_test, y_pred))\n",
    "print(\"Precision: \", precision_score(y_test, y_pred, average='weighted'))\n",
    "print(\"Recall: \", recall_score(y_test, y_pred, average='weighted'))\n",
    "print(\"F1 Score: \", f1_score(y_test, y_pred, average='weighted'))\n",
    "# printing the accuracy, classification report, and confusion matrix for the model's performance evaluation"
   ]
  }
 ],
 "metadata": {
  "kernelspec": {
   "display_name": "Python 3",
   "language": "python",
   "name": "python3"
  },
  "language_info": {
   "codemirror_mode": {
    "name": "ipython",
    "version": 3
   },
   "file_extension": ".py",
   "mimetype": "text/x-python",
   "name": "python",
   "nbconvert_exporter": "python",
   "pygments_lexer": "ipython3",
   "version": "3.12.8"
  }
 },
 "nbformat": 4,
 "nbformat_minor": 5
}
